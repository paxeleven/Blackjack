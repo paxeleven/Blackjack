{
 "cells": [
  {
   "cell_type": "code",
   "execution_count": 318,
   "metadata": {},
   "outputs": [],
   "source": [
    "import random\n",
    "\n",
    "suits = ('Hearts', 'Diamonds', 'Spades', 'Clubs')\n",
    "faces = ('Two', 'Three', 'Four', 'Five', 'Six', 'Seven', 'Eight', 'Nine', 'Ten', 'Jack', 'Queen', 'King', 'Ace')\n",
    "values = {'Two':2, 'Three':3, 'Four':4, 'Five':5, 'Six':6, 'Seven':7, 'Eight':8, 'Nine':9, 'Ten':10, 'Jack':10, 'Queen':10, 'King':10, 'Ace':11}\n",
    "\n",
    "game_on = True\n",
    "\n",
    "class Card():    \n",
    "    \n",
    "    def __init__(self,face,suit):\n",
    "        \n",
    "        self.face = face\n",
    "        self.suit = suit\n",
    "        self.value = values.get(self.face)        \n",
    "    \n",
    "    def __str__(self):\n",
    "        \n",
    "        return f'{self.face} of {self.suit}'\n",
    "    \n",
    "    \n",
    "class Deck():\n",
    "    \n",
    "    def __init__(self):        \n",
    "        self.deck = []        \n",
    "        for suit in suits:\n",
    "            for face in faces:\n",
    "                self.deck += [face + ' of ' + suit]        \n",
    "                \n",
    "    def shuffle(self):\n",
    "        random.shuffle(self.deck)\n",
    "        \n",
    "    def deal(self):\n",
    "        new_card = self.deck.pop()\n",
    "        return new_card\n",
    "    \n",
    "    def __str__(self):\n",
    "        return f'{self.deck}'\n",
    "    \n",
    "    \n",
    "class Hand():\n",
    "    \n",
    "    def __init__(self):\n",
    "        self.card = []\n",
    "        self.handvalue = 0\n",
    "        \n",
    "    def add_card(self,new_card):\n",
    "        self.card += [new_card]        \n",
    "\n",
    "        if 'Ace' in new_card:\n",
    "            if self.handvalue <= 10:\n",
    "                self.handvalue += 11\n",
    "            elif self.handvalue <= 20:\n",
    "                self.handvalue += 1\n",
    "        else:\n",
    "            face = new_card.split()[0]\n",
    "            print(face)\n",
    "            self.handvalue += values.get(face)        \n",
    "                \n",
    "    def __str__(self):\n",
    "        return f'My hand is: {self.card}\\nMy hand value is: {self.handvalue}'"
   ]
  },
  {
   "cell_type": "code",
   "execution_count": 319,
   "metadata": {},
   "outputs": [],
   "source": [
    "mydeck = Deck()"
   ]
  },
  {
   "cell_type": "code",
   "execution_count": 320,
   "metadata": {},
   "outputs": [],
   "source": [
    "mydeck.shuffle()"
   ]
  },
  {
   "cell_type": "code",
   "execution_count": 321,
   "metadata": {},
   "outputs": [],
   "source": [
    "dealerhand = Hand()"
   ]
  },
  {
   "cell_type": "code",
   "execution_count": 330,
   "metadata": {},
   "outputs": [],
   "source": [
    "new_card = mydeck.deal()"
   ]
  },
  {
   "cell_type": "code",
   "execution_count": 331,
   "metadata": {},
   "outputs": [
    {
     "name": "stdout",
     "output_type": "stream",
     "text": [
      "Five\n"
     ]
    }
   ],
   "source": [
    "dealerhand.add_card(new_card)"
   ]
  },
  {
   "cell_type": "code",
   "execution_count": 332,
   "metadata": {},
   "outputs": [
    {
     "name": "stdout",
     "output_type": "stream",
     "text": [
      "Five of Diamonds\n"
     ]
    }
   ],
   "source": [
    "print(new_card)"
   ]
  },
  {
   "cell_type": "code",
   "execution_count": 333,
   "metadata": {},
   "outputs": [
    {
     "name": "stdout",
     "output_type": "stream",
     "text": [
      "My hand is: ['Four of Clubs', 'Jack of Clubs', 'Five of Diamonds']\n",
      "My hand value is: 19\n"
     ]
    }
   ],
   "source": [
    "print(dealerhand)"
   ]
  },
  {
   "cell_type": "code",
   "execution_count": null,
   "metadata": {},
   "outputs": [],
   "source": []
  }
 ],
 "metadata": {
  "kernelspec": {
   "display_name": "Python 3",
   "language": "python",
   "name": "python3"
  },
  "language_info": {
   "codemirror_mode": {
    "name": "ipython",
    "version": 3
   },
   "file_extension": ".py",
   "mimetype": "text/x-python",
   "name": "python",
   "nbconvert_exporter": "python",
   "pygments_lexer": "ipython3",
   "version": "3.7.3"
  }
 },
 "nbformat": 4,
 "nbformat_minor": 2
}
